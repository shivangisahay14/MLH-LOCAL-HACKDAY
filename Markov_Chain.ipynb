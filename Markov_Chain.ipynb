{
  "nbformat": 4,
  "nbformat_minor": 0,
  "metadata": {
    "colab": {
      "name": "Markov Chain.ipynb",
      "provenance": [],
      "collapsed_sections": [],
      "include_colab_link": true
    },
    "kernelspec": {
      "name": "python3",
      "display_name": "Python 3"
    },
    "language_info": {
      "name": "python"
    }
  },
  "cells": [
    {
      "cell_type": "markdown",
      "metadata": {
        "id": "view-in-github",
        "colab_type": "text"
      },
      "source": [
        "<a href=\"https://colab.research.google.com/github/shivangisahay14/MLH-LOCAL-HACKDAY/blob/main/Markov_Chain.ipynb\" target=\"_parent\"><img src=\"https://colab.research.google.com/assets/colab-badge.svg\" alt=\"Open In Colab\"/></a>"
      ]
    },
    {
      "cell_type": "markdown",
      "metadata": {
        "id": "h3vWQKvFUmEE"
      },
      "source": [
        "**Language Modelling** A language model attempts to learn the structure of natural language. A key feature of language modelling is that it is generative, meaning that it aims to predict the next word given a previous sequence of words. It is able to do this because language models are typically trained on very large datasets in an unsupervised manner, and hence the model can “learn” the syntactic features of language"
      ]
    },
    {
      "cell_type": "markdown",
      "metadata": {
        "id": "Rg1mlFAQVBXx"
      },
      "source": [
        "To predict the next word of a sentence, the model actually needs to know quite a lot about the language and quite a lot of world knowledge. Here is an an example:\n",
        "\n",
        "\n",
        "> “I’d like to eat a hot ___”: Obviously, “dog”, right?\n",
        "\n",
        "\n",
        "\n",
        "\n",
        "> “It was a hot ___”: Probably “day”\n",
        "\n"
      ]
    },
    {
      "cell_type": "markdown",
      "metadata": {
        "id": "xf_ePYE7Vmi6"
      },
      "source": [
        "**Mini-Project : Fake Text Generator**\n",
        "\n",
        "\n",
        "- Fake New Story\n",
        "- Fake Speech\n",
        "- Fake Bollywood Song "
      ]
    },
    {
      "cell_type": "code",
      "metadata": {
        "id": "DvN_Dg47VcJw"
      },
      "source": [
        "text = \"\"\"Who let the dogs out?\n",
        "Who, who, who, who, who?\n",
        "Who let the dogs out?\n",
        "Who, who, who, who, who?\n",
        "Who let the dogs out?\n",
        "Who, who, who, who, who?\n",
        "Who let the dogs out?\n",
        "Well, the party was nice, the party was pumpin'\n",
        "Yippie yi yo\n",
        "And everybody havin' a ball\n",
        "Yippie yi yo\n",
        "I tell the fellas start the name callin'\n",
        "Yippie yi yo\n",
        "And the girls respond to the call\n",
        "I heard a woman shout out\n",
        "Who let the dogs out?\n",
        "Who, who, who, who, who?\n",
        "Who let the dogs out?\n",
        "Who, who, who, who, who?\n",
        "Who let the dogs out?\n",
        "Who, who, who, who, who?\n",
        "Who let the dogs out?\n",
        "Who, who, who, who, who?\n",
        "I see de dance people had a ball\n",
        "'Coz she really want to skip town\n",
        "Get back, Gruffy, back, Scruffy\n",
        "Get back you flea infested mongrel\n",
        "Gonna tell myself, \"Hey, man, no get angry\"\n",
        "Yippie yi yo\n",
        "To any girls callin' them canine\n",
        "Yippie yi yo\n",
        "But they tell me, \"Hey, man, it's part of the party?\n",
        "Yippie yi yo\n",
        "You put a woman in front and her man behind\n",
        "I heard woman shout out\n",
        "Who let the dogs out?\n",
        "Who, who, who, who, who?\n",
        "Who let the dogs out?\n",
        "Who, who, who, who, who?\n",
        "Who let the dogs out?\n",
        "Who, who, who, who, who?\n",
        "Who let the dogs out?\n",
        "Who, who, who, who, who?\n",
        "Say, a doggy is nuttin' if he don' have a bone\n",
        "All doggy, hold ya' bone, all doggy, hold it\n",
        "A doggy is nuttin' if he don' have a bone\n",
        "All doggy, hold ya' bone, all doggy, hold it\n",
        "Who let the dogs out?\n",
        "Who, who, who, who, who?\n",
        "Who let the dogs out?\n",
        "Who, who, who, who, who?\n",
        "Who let the dogs out?\n",
        "Who, who, who, who, who?\n",
        "Who let the dogs out?\n",
        "Who, who, who, who, who?\n",
        "I see de dance people had a ball\n",
        "'Coz she really want to skip town\n",
        "Get back, Gruffy, back, Scruffy\n",
        "Get back you flea infested mongrel\n",
        "Well, if I am a dog, the party is on\n",
        "I gotta get my groove 'cause my mind done gone\n",
        "Do you see the rays comin' from my eye\n",
        "Walkin' through the place that Digi-man is breakin' it down?\n",
        "Me and my white short shorts\n",
        "And I can't see color, any color will do\n",
        "I'll stick on you, that's why they call me 'Pit bull'\n",
        "'Cause I'm the man of the land\n",
        "When they see me they say, ? Who?\n",
        "Who let the dogs out?\n",
        "Who, who, who, who, who?\n",
        "Who let the dogs out?\n",
        "Who, who, who, who, who?\n",
        "Who let the dogs out?\n",
        "Who, who, who, who, who?\n",
        "Who let the dogs out?\n",
        "Who, who, who, who, who?\n",
        "Who let the dogs out?\n",
        "Who, who, who, who, who?\n",
        "Who let the dogs out?\n",
        "Who, who, who, who, who?\"\"\"\n",
        "\n",
        "text = text.lower()"
      ],
      "execution_count": null,
      "outputs": []
    },
    {
      "cell_type": "code",
      "metadata": {
        "id": "WJGYfxSJhSMY"
      },
      "source": [
        "X          y \n",
        "=============\n",
        "hell       o\n",
        "ello       ''\n",
        "llo_       h\n",
        "hell       o\n",
        ".\n",
        ".\n",
        "."
      ],
      "execution_count": null,
      "outputs": []
    },
    {
      "cell_type": "code",
      "metadata": {
        "id": "b76eGnz6hqn1"
      },
      "source": [
        "def learnProb(data,k = 4):\n",
        "\n",
        "    T = {}\n",
        "\n",
        "\n",
        "    # First Step - Learn the X,Y Counts\n",
        "    for i in range(len(data)-k):\n",
        "        X = data[i:i+k]\n",
        "        Y = data[i+k]\n",
        "        #print(X,Y)\n",
        "\n",
        "        if T.get(X) is None:\n",
        "            T[X] = {} \n",
        "            T[X][Y] = 1\n",
        "        else:\n",
        "            if T[X].get(Y) is None:\n",
        "                T[X][Y] = 1\n",
        "            else:\n",
        "                T[X][Y] += 1\n",
        "\n",
        "    # 2nd Step - Convert Counts into Probabilites\n",
        "    for kx in T.keys():\n",
        "        s = float(sum(T[kx].values()))\n",
        "        for k in T[kx].keys():\n",
        "            T[kx][k] = T[kx][k]/s\n",
        "\n",
        "    return T"
      ],
      "execution_count": null,
      "outputs": []
    },
    {
      "cell_type": "code",
      "metadata": {
        "colab": {
          "base_uri": "https://localhost:8080/"
        },
        "id": "JlukwAShibKk",
        "outputId": "8e5811ec-1388-47f8-ac90-2553b6c4adc2"
      },
      "source": [
        "T = learnProb(text)\n",
        "print(T)"
      ],
      "execution_count": null,
      "outputs": [
        {
          "output_type": "stream",
          "text": [
            "{'indi': {'a': 1.0}, 'ndia': {\"'\": 1.0}, \"dia'\": {'s': 1.0}, \"ia's\": {' ': 1.0}, \"a's \": {'c': 1.0}, \"'s c\": {'o': 1.0}, 's co': {'v': 1.0}, ' cov': {'i': 1.0}, 'covi': {'d': 1.0}, 'ovid': {' ': 1.0}, 'vid ': {'c': 0.5, 'd': 0.25, 'p': 0.25}, 'id c': {'a': 1.0}, 'd ca': {'s': 1.0}, ' cas': {'e': 1.0}, 'case': {'l': 0.16666666666666666, 's': 0.8333333333333334}, 'asel': {'o': 1.0}, 'selo': {'a': 1.0}, 'eloa': {'d': 1.0}, 'load': {' ': 1.0}, 'oad ': {'s': 1.0}, 'ad s': {'u': 1.0}, 'd su': {'r': 1.0}, ' sur': {'g': 1.0}, 'surg': {'e': 1.0}, 'urge': {'d': 0.5, ' ': 0.5}, 'rged': {' ': 1.0}, 'ged ': {'t': 0.25, '6': 0.25, 'i': 0.25, '3': 0.25}, 'ed t': {'o': 0.5, 'h': 0.5}, 'd to': {' ': 1.0}, ' to ': {'1': 0.2, 'f': 0.2, 'g': 0.2, 'h': 0.2, '9': 0.2}, 'to 1': {'.': 1.0}, 'o 1.': {'4': 1.0}, ' 1.4': {'5': 1.0}, '1.45': {' ': 1.0}, '.45 ': {'c': 1.0}, '45 c': {'r': 1.0}, '5 cr': {'o': 1.0}, ' cro': {'r': 1.0}, 'cror': {'e': 1.0}, 'rore': {' ': 1.0}, 'ore ': {'c': 1.0}, 're c': {'a': 0.5, 'o': 0.5}, 'e ca': {'s': 1.0}, 'ases': {' ': 0.8, ',': 0.2}, 'ses ': {'w': 0.25, 'f': 0.25, 'i': 0.25, 'h': 0.25}, 'es w': {'i': 1.0}, 's wi': {'t': 1.0}, ' wit': {'h': 1.0}, 'with': {' ': 1.0}, 'ith ': {'2': 1.0}, 'th 2': {',': 1.0}, 'h 2,': {'3': 1.0}, ' 2,3': {'4': 1.0}, '2,34': {',': 1.0}, ',34,': {'6': 1.0}, '34,6': {'9': 1.0}, '4,69': {'2': 1.0}, ',692': {' ': 1.0}, '692 ': {'f': 1.0}, '92 f': {'r': 1.0}, '2 fr': {'e': 1.0}, ' fre': {'s': 1.0}, 'fres': {'h': 1.0}, 'resh': {' ': 1.0}, 'esh ': {'i': 1.0}, 'sh i': {'n': 1.0}, 'h in': {'f': 1.0}, ' inf': {'e': 1.0}, 'infe': {'c': 1.0}, 'nfec': {'t': 1.0}, 'fect': {'i': 1.0}, 'ecti': {'o': 1.0}, 'ctio': {'n': 1.0}, 'tion': {'s': 0.6666666666666666, 'a': 0.3333333333333333}, 'ions': {' ': 0.5, '.': 0.5}, 'ons ': {'-': 1.0}, 'ns -': {' ': 1.0}, 's - ': {'t': 1.0}, ' - t': {'h': 1.0}, '- th': {'e': 1.0}, ' the': {' ': 0.9375, 'i': 0.0625}, 'the ': {'s': 0.0625, 'c': 0.25, 't': 0.0625, 'l': 0.25, 'n': 0.125, 'p': 0.125, 'r': 0.0625, 'w': 0.0625}, 'he s': {'h': 1.0}, 'e sh': {'a': 1.0}, ' sha': {'r': 1.0}, 'shar': {'p': 1.0}, 'harp': {'e': 1.0}, 'arpe': {'s': 1.0}, 'rpes': {'t': 1.0}, 'pest': {'-': 1.0}, 'est-': {'e': 1.0}, 'st-e': {'v': 1.0}, 't-ev': {'e': 1.0}, '-eve': {'r': 1.0}, 'ever': {' ': 1.0}, 'ver ': {'d': 0.25, '2': 0.25, 's': 0.25, '6': 0.25}, 'er d': {'a': 1.0}, 'r da': {'i': 1.0}, ' dai': {'l': 1.0}, 'dail': {'y': 1.0}, 'aily': {' ': 1.0}, 'ily ': {'s': 1.0}, 'ly s': {'p': 1.0}, 'y sp': {'i': 1.0}, ' spi': {'k': 1.0}, 'spik': {'e': 1.0}, 'pike': {' ': 1.0}, 'ike ': {'-': 1.0}, 'ke -': {' ': 1.0}, 'e - ': {'a': 1.0}, ' - a': {'s': 1.0}, '- as': {' ': 1.0}, ' as ': {'t': 1.0}, 'as t': {'h': 1.0}, 's th': {'e': 1.0}, 'he c': {'o': 0.5, 'i': 0.5}, 'e co': {'u': 0.6666666666666666, 'n': 0.3333333333333333}, ' cou': {'n': 1.0}, 'coun': {'t': 1.0}, 'ount': {'r': 0.6666666666666666, '.': 0.3333333333333333}, 'untr': {'y': 1.0}, 'ntry': {' ': 1.0}, 'try ': {'r': 0.5, 's': 0.5}, 'ry r': {'e': 0.5, 'a': 0.5}, 'y re': {'c': 0.5, 'p': 0.5}, ' rec': {'o': 1.0}, 'reco': {'r': 0.5, 'v': 0.5}, 'ecor': {'d': 1.0}, 'cord': {'e': 0.5, 'i': 0.5}, 'orde': {'d': 1.0}, 'rded': {' ': 1.0}, 'ded ': {'o': 1.0}, 'ed o': {'v': 1.0}, 'd ov': {'e': 1.0}, ' ove': {'r': 1.0}, 'over': {' ': 0.3333333333333333, 'n': 0.3333333333333333, 'y': 0.3333333333333333}, 'er 2': {' ': 1.0}, 'r 2 ': {'l': 1.0}, ' 2 l': {'a': 1.0}, '2 la': {'k': 1.0}, ' lak': {'h': 1.0}, 'lakh': {' ': 1.0}, 'akh ': {'c': 1.0}, 'kh c': {'a': 1.0}, 'h ca': {'s': 1.0}, 'es f': {'o': 1.0}, 's fo': {'r': 1.0}, ' for': {' ': 1.0}, 'for ': {'t': 1.0}, 'or t': {'h': 1.0}, 'r th': {'e': 1.0}, 'he t': {'h': 1.0}, 'e th': {'i': 1.0}, ' thi': {'r': 0.3333333333333333, 's': 0.6666666666666666}, 'thir': {'d': 1.0}, 'hird': {' ': 1.0}, 'ird ': {'s': 1.0}, 'rd s': {'t': 1.0}, 'd st': {'r': 1.0}, ' str': {'a': 0.5, 'e': 0.5}, 'stra': {'i': 1.0}, 'trai': {'g': 1.0}, 'raig': {'h': 1.0}, 'aigh': {'t': 1.0}, 'ight': {' ': 1.0}, 'ght ': {'d': 0.5, 'a': 0.5}, 'ht d': {'a': 1.0}, 't da': {'y': 0.6666666666666666, 't': 0.3333333333333333}, ' day': {'.': 0.5, ' ': 0.5}, 'day.': {' ': 1.0}, 'ay. ': {'1': 1.0}, 'y. 1': {',': 1.0}, '. 1,': {'3': 1.0}, ' 1,3': {'4': 1.0}, '1,34': {'1': 1.0}, ',341': {' ': 1.0}, '341 ': {'d': 1.0}, '41 d': {'e': 1.0}, '1 de': {'a': 1.0}, ' dea': {'t': 0.8, 'd': 0.2}, 'deat': {'h': 1.0}, 'eath': {'s': 0.75, ' ': 0.25}, 'aths': {' ': 0.6666666666666666, ',': 0.3333333333333333}, 'ths ': {'w': 0.5, 'i': 0.5}, 'hs w': {'e': 1.0}, 's we': {'r': 1.0}, ' wer': {'e': 1.0}, 'were': {' ': 1.0}, 'ere ': {'r': 0.25, 'd': 0.5, 'c': 0.25}, 're r': {'e': 1.0}, 'e re': {'p': 0.5, 'c': 0.5}, ' rep': {'o': 1.0}, 'repo': {'r': 1.0}, 'epor': {'t': 1.0}, 'port': {'e': 1.0}, 'orte': {'d': 1.0}, 'rted': {' ': 1.0}, 'ted ': {'i': 0.4, 't': 0.2, '1': 0.4}, 'ed i': {'n': 1.0}, 'd in': {' ': 1.0}, ' in ': {'t': 0.8333333333333334, 'c': 0.16666666666666666}, 'in t': {'h': 1.0}, 'n th': {'e': 1.0}, 'he l': {'a': 1.0}, 'e la': {'s': 1.0}, ' las': {'t': 1.0}, 'last': {' ': 1.0}, 'ast ': {'2': 1.0}, 'st 2': {'4': 1.0}, 't 24': {' ': 1.0}, ' 24 ': {'h': 1.0}, '24 h': {'o': 1.0}, '4 ho': {'u': 1.0}, ' hou': {'r': 1.0}, 'hour': {'s': 1.0}, 'ours': {' ': 0.25, ',': 0.25, '.': 0.5}, 'urs ': {'a': 1.0}, 'rs a': {'s': 1.0}, 's as': {' ': 1.0}, 'ry s': {'a': 1.0}, 'y sa': {'w': 1.0}, ' saw': {' ': 1.0}, 'saw ': {'d': 1.0}, 'aw d': {'e': 1.0}, 'w de': {'a': 1.0}, 'dead': {'l': 1.0}, 'eadl': {'i': 1.0}, 'adli': {'e': 1.0}, 'dlie': {'s': 1.0}, 'lies': {'t': 1.0}, 'iest': {' ': 1.0}, 'est ': {'d': 0.3333333333333333, 'e': 0.3333333333333333, 'o': 0.3333333333333333}, 'st d': {'a': 1.0}, 'day ': {'o': 0.25, 'r': 0.25, 's': 0.25, 'c': 0.25}, 'ay o': {'f': 1.0}, 'y of': {' ': 1.0}, ' of ': {'p': 1.0}, 'of p': {'a': 1.0}, 'f pa': {'n': 1.0}, ' pan': {'d': 1.0}, 'pand': {'e': 1.0}, 'ande': {'m': 1.0}, 'ndem': {'i': 1.0}, 'demi': {'c': 1.0}, 'emic': {' ': 0.3333333333333333, ',': 0.3333333333333333, '.': 0.3333333333333333}, 'mic ': {'t': 1.0}, 'ic t': {'h': 1.0}, 'c th': {'i': 1.0}, 'this': {' ': 1.0}, 'his ': {'y': 0.5, 'm': 0.5}, 'is y': {'e': 1.0}, 's ye': {'a': 1.0}, ' yea': {'r': 1.0}, 'year': {'.': 1.0}, 'ear.': {'\\n': 1.0}, 'ar.\\n': {'p': 1.0}, 'r.\\np': {'r': 1.0}, '.\\npr': {'i': 1.0}, '\\npri': {'m': 1.0}, 'prim': {'e': 1.0}, 'rime': {' ': 1.0}, 'ime ': {'m': 1.0}, 'me m': {'i': 1.0}, 'e mi': {'n': 1.0}, ' min': {'i': 1.0}, 'mini': {'s': 1.0}, 'inis': {'t': 1.0}, 'nist': {'e': 1.0}, 'iste': {'r': 1.0}, 'ster': {' ': 1.0}, 'ter ': {'n': 1.0}, 'er n': {'a': 1.0}, 'r na': {'r': 1.0}, ' nar': {'e': 1.0}, 'nare': {'n': 1.0}, 'aren': {'d': 1.0}, 'rend': {'r': 1.0}, 'endr': {'a': 1.0}, 'ndra': {' ': 1.0}, 'dra ': {'m': 1.0}, 'ra m': {'o': 1.0}, 'a mo': {'d': 1.0}, ' mod': {'i': 1.0}, 'modi': {' ': 1.0}, 'odi ': {'t': 1.0}, 'di t': {'h': 1.0}, 'i th': {'i': 1.0}, 'is m': {'o': 1.0}, 's mo': {'r': 1.0}, ' mor': {'n': 1.0}, 'morn': {'i': 1.0}, 'orni': {'n': 1.0}, 'rnin': {'g': 1.0}, 'ning': {' ': 1.0}, 'ing ': {'a': 0.25, 't': 0.75}, 'ng a': {'p': 1.0}, 'g ap': {'p': 1.0}, ' app': {'e': 1.0}, 'appe': {'a': 1.0}, 'ppea': {'l': 1.0}, 'peal': {'e': 1.0}, 'eale': {'d': 1.0}, 'aled': {' ': 1.0}, 'led ': {'t': 1.0}, 'd th': {'a': 0.3333333333333333, 'e': 0.6666666666666666}, ' tha': {'t': 1.0}, 'that': {' ': 1.0}, 'hat ': {'a': 0.5, 'i': 0.5}, 'at a': {'n': 1.0}, 't an': {'n': 1.0}, ' ann': {'u': 1.0}, 'annu': {'a': 1.0}, 'nnua': {'l': 1.0}, 'nual': {' ': 1.0}, 'ual ': {'k': 1.0}, 'al k': {'u': 1.0}, 'l ku': {'m': 1.0}, ' kum': {'b': 1.0}, 'kumb': {'h': 1.0}, 'umbh': {' ': 1.0}, 'mbh ': {'m': 1.0}, 'bh m': {'e': 1.0}, 'h me': {'l': 1.0}, ' mel': {'a': 1.0}, 'mela': {' ': 1.0}, 'ela ': {'\"': 1.0}, 'la \"': {'s': 1.0}, 'a \"s': {'h': 1.0}, ' \"sh': {'o': 1.0}, '\"sho': {'u': 1.0}, 'shou': {'l': 1.0}, 'houl': {'d': 1.0}, 'ould': {' ': 1.0}, 'uld ': {'n': 1.0}, 'ld n': {'o': 1.0}, 'd no': {'w': 1.0}, ' now': {' ': 1.0}, 'now ': {'o': 1.0}, 'ow o': {'n': 1.0}, 'w on': {'l': 1.0}, ' onl': {'y': 1.0}, 'only': {' ': 1.0}, 'nly ': {'b': 1.0}, 'ly b': {'e': 1.0}, 'y be': {' ': 1.0}, ' be ': {'s': 1.0}, 'be s': {'y': 1.0}, 'e sy': {'m': 1.0}, ' sym': {'b': 1.0}, 'symb': {'o': 1.0}, 'ymbo': {'l': 1.0}, 'mbol': {'i': 1.0}, 'boli': {'c': 1.0}, 'olic': {'\"': 1.0}, 'lic\"': {' ': 1.0}, 'ic\" ': {'a': 1.0}, 'c\" a': {'m': 1.0}, '\" am': {'i': 1.0}, ' ami': {'d': 1.0}, 'amid': {' ': 1.0}, 'mid ': {'t': 1.0}, 'id t': {'h': 1.0}, 'he n': {'o': 0.5, 'a': 0.5}, 'e no': {'v': 1.0}, ' nov': {'e': 1.0}, 'nove': {'l': 1.0}, 'ovel': {' ': 1.0}, 'vel ': {'c': 1.0}, 'el c': {'o': 1.0}, 'l co': {'r': 1.0}, ' cor': {'o': 1.0}, 'coro': {'n': 1.0}, 'oron': {'a': 1.0}, 'rona': {'v': 1.0}, 'onav': {'i': 1.0}, 'navi': {'r': 1.0}, 'avir': {'u': 1.0}, 'viru': {'s': 1.0}, 'irus': {' ': 1.0}, 'rus ': {'p': 0.3333333333333333, 'c': 0.3333333333333333, 't': 0.3333333333333333}, 'us p': {'a': 1.0}, 's pa': {'n': 1.0}, 'mic,': {' ': 1.0}, 'ic, ': {'s': 1.0}, 'c, s': {'t': 1.0}, ', st': {'r': 1.0}, 'stre': {'s': 1.0}, 'tres': {'s': 1.0}, 'ress': {'i': 1.0}, 'essi': {'n': 1.0}, 'ssin': {'g': 1.0}, 'sing': {' ': 0.5, 'l': 0.5}, 'ng t': {'h': 0.6666666666666666, 'o': 0.3333333333333333}, 'g th': {'a': 0.5, 'e': 0.5}, 'at i': {'t': 1.0}, 't it': {' ': 1.0}, ' it ': {'w': 1.0}, 'it w': {'i': 1.0}, 't wi': {'l': 1.0}, ' wil': {'l': 1.0}, 'will': {' ': 1.0}, 'ill ': {'g': 1.0}, 'll g': {'i': 1.0}, 'l gi': {'v': 1.0}, ' giv': {'e': 1.0}, 'give': {' ': 1.0}, 'ive ': {'a': 0.5, 'c': 0.5}, 've a': {' ': 1.0}, 'e a ': {'b': 1.0}, ' a b': {'o': 1.0}, 'a bo': {'o': 1.0}, ' boo': {'s': 1.0}, 'boos': {'t': 1.0}, 'oost': {' ': 1.0}, 'ost ': {'t': 1.0}, 'st t': {'o': 0.5, 'h': 0.5}, 't to': {' ': 1.0}, 'to f': {'i': 1.0}, 'o fi': {'g': 1.0}, ' fig': {'h': 1.0}, 'figh': {'t': 1.0}, 'ht a': {'g': 1.0}, 't ag': {'a': 1.0}, ' aga': {'i': 1.0}, 'agai': {'n': 1.0}, 'gain': {'s': 1.0}, 'ains': {'t': 1.0}, 'inst': {' ': 1.0}, 'nst ': {'t': 1.0}, 't th': {'e': 1.0}, 'he p': {'a': 0.5, 'e': 0.5}, 'e pa': {'n': 1.0}, 'mic.': {'\\n': 1.0}, 'ic.\\n': {'\\n': 1.0}, 'c.\\n\\n': {'m': 1.0}, '.\\n\\nm': {'e': 0.5, 'a': 0.5}, '\\n\\nme': {'a': 1.0}, '\\nmea': {'n': 1.0}, 'mean': {'w': 1.0}, 'eanw': {'h': 1.0}, 'anwh': {'i': 1.0}, 'nwhi': {'l': 1.0}, 'whil': {'e': 1.0}, 'hile': {',': 0.5, ' ': 0.5}, 'ile,': {' ': 1.0}, 'le, ': {'m': 1.0}, 'e, m': {'a': 1.0}, ', ma': {'h': 1.0}, ' mah': {'a': 1.0}, 'maha': {'r': 1.0}, 'ahar': {'a': 1.0}, 'hara': {'s': 1.0}, 'aras': {'h': 1.0}, 'rash': {'t': 1.0}, 'asht': {'r': 1.0}, 'shtr': {'a': 1.0}, 'htra': {' ': 0.6666666666666666, ',': 0.3333333333333333}, 'tra ': {'a': 0.5, 'l': 0.5}, 'ra a': {'n': 1.0}, 'a an': {'d': 1.0}, ' and': {' ': 1.0}, 'and ': {'d': 1.0}, 'nd d': {'e': 1.0}, 'd de': {'l': 0.5, 'a': 0.5}, ' del': {'h': 1.0}, 'delh': {'i': 1.0}, 'elhi': {' ': 0.6666666666666666, \"'\": 0.3333333333333333}, 'lhi ': {'o': 0.5, 'r': 0.5}, 'hi o': {'n': 1.0}, 'i on': {' ': 1.0}, ' on ': {'f': 1.0}, 'on f': {'r': 1.0}, 'n fr': {'i': 1.0}, ' fri': {'d': 1.0}, 'frid': {'a': 1.0}, 'rida': {'y': 1.0}, 'iday': {' ': 1.0}, 'ay r': {'e': 1.0}, 'thei': {'r': 1.0}, 'heir': {' ': 1.0}, 'eir ': {'b': 1.0}, 'ir b': {'i': 1.0}, 'r bi': {'g': 1.0}, ' big': {'g': 1.0}, 'bigg': {'e': 1.0}, 'igge': {'s': 1.0}, 'gges': {'t': 1.0}, 'gest': {' ': 1.0}, 'st e': {'v': 1.0}, 't ev': {'e': 1.0}, ' eve': {'r': 1.0}, 'er s': {'i': 1.0}, 'r si': {'n': 1.0}, ' sin': {'g': 1.0}, 'ingl': {'e': 1.0}, 'ngle': {'-': 1.0}, 'gle-': {'d': 1.0}, 'le-d': {'a': 1.0}, 'e-da': {'y': 1.0}, '-day': {' ': 1.0}, 'ay s': {'u': 1.0}, 'y su': {'r': 1.0}, 'rge ': {'i': 1.0}, 'ge i': {'n': 1.0}, 'e in': {' ': 1.0}, 'in c': {'o': 1.0}, 'n co': {'r': 1.0}, 'us c': {'a': 1.0}, 's ca': {'s': 1.0}, 'ses,': {' ': 1.0}, 'es, ': {'a': 1.0}, 's, a': {'c': 1.0}, ', ac': {'c': 1.0}, ' acc': {'o': 1.0}, 'acco': {'r': 1.0}, 'ccor': {'d': 1.0}, 'ordi': {'n': 1.0}, 'rdin': {'g': 1.0}, 'ding': {' ': 1.0}, 'g to': {' ': 1.0}, 'to g': {'o': 1.0}, 'o go': {'v': 1.0}, ' gov': {'e': 1.0}, 'gove': {'r': 1.0}, 'vern': {'m': 1.0}, 'ernm': {'e': 1.0}, 'rnme': {'n': 1.0}, 'nmen': {'t': 1.0}, 'ment': {' ': 1.0}, 'ent ': {'d': 1.0}, 'nt d': {'a': 1.0}, ' dat': {'a': 1.0}, 'data': {'.': 1.0}, 'ata.': {'\\n': 1.0}, 'ta.\\n': {'\\n': 1.0}, 'a.\\n\\n': {'w': 1.0}, '.\\n\\nw': {'h': 1.0}, '\\n\\nwh': {'i': 1.0}, '\\nwhi': {'l': 1.0}, 'ile ': {'d': 1.0}, 'le d': {'e': 1.0}, 'e de': {'l': 1.0}, 'hi r': {'e': 1.0}, 'i re': {'p': 1.0}, 'ed 1': {'9': 0.5, '4': 0.5}, 'd 19': {',': 1.0}, ' 19,': {'4': 1.0}, '19,4': {'8': 1.0}, '9,48': {'6': 1.0}, ',486': {' ': 1.0}, '486 ': {'c': 1.0}, '86 c': {'o': 1.0}, '6 co': {'v': 1.0}, 'es i': {'n': 1.0}, 's in': {' ': 1.0}, 'urs,': {' ': 1.0}, 'rs, ': {'m': 1.0}, 's, m': {'a': 1.0}, 'ra l': {'o': 1.0}, 'a lo': {'g': 1.0}, ' log': {'g': 1.0}, 'logg': {'e': 1.0}, 'ogge': {'d': 1.0}, 'gged': {' ': 1.0}, 'ed 6': {'3': 1.0}, 'd 63': {',': 1.0}, ' 63,': {'7': 1.0}, '63,7': {'2': 1.0}, '3,72': {'9': 1.0}, ',729': {' ': 1.0}, '729 ': {'i': 1.0}, '29 i': {'n': 1.0}, '9 in': {'f': 1.0}, 'ons.': {'\\n': 1.0}, 'ns.\\n': {'\\n': 1.0}, 's.\\n\\n': {'t': 1.0}, '.\\n\\nt': {'h': 1.0}, '\\n\\nth': {'e': 1.0}, '\\nthe': {' ': 1.0}, 'e na': {'t': 1.0}, ' nat': {'i': 1.0}, 'nati': {'o': 1.0}, 'atio': {'n': 1.0}, 'iona': {'l': 1.0}, 'onal': {' ': 1.0}, 'nal ': {'c': 1.0}, 'al c': {'a': 1.0}, 'l ca': {'p': 1.0}, ' cap': {'i': 1.0}, 'capi': {'t': 1.0}, 'apit': {'a': 1.0}, 'pita': {'l': 1.0}, 'ital': {' ': 1.0}, 'tal ': {'a': 1.0}, 'al a': {'l': 1.0}, 'l al': {'s': 1.0}, ' als': {'o': 1.0}, 'also': {' ': 1.0}, 'lso ': {'r': 1.0}, 'so r': {'e': 1.0}, 'o re': {'p': 1.0}, 'd 14': {'1': 1.0}, ' 141': {' ': 1.0}, '141 ': {'d': 1.0}, 'ths,': {' ': 1.0}, 'hs, ': {'w': 1.0}, 's, w': {'h': 1.0}, ', wh': {'i': 1.0}, ' whi': {'c': 1.0}, 'whic': {'h': 1.0}, 'hich': {' ': 1.0}, 'ich ': {'i': 1.0}, 'ch i': {'s': 1.0}, 'h is': {' ': 1.0}, ' is ': {'i': 1.0}, 'is i': {'t': 1.0}, 's it': {'s': 1.0}, ' its': {' ': 1.0}, 'its ': {'b': 1.0}, 'ts b': {'i': 1.0}, 's bi': {'g': 1.0}, 'st o': {'n': 1.0}, 't on': {'e': 1.0}, ' one': {'-': 1.0}, 'one-': {'d': 1.0}, 'ne-d': {'a': 1.0}, 'ay c': {'o': 1.0}, 'y co': {'v': 1.0}, 'id d': {'e': 1.0}, 'ath ': {'c': 1.0}, 'th c': {'o': 1.0}, 'h co': {'u': 1.0}, 'unt.': {' ': 1.0}, 'nt. ': {'t': 0.5, '1': 0.5}, 't. t': {'h': 1.0}, '. th': {'e': 1.0}, 'e ci': {'t': 1.0}, ' cit': {'y': 1.0}, 'city': {\"'\": 0.5, ' ': 0.5}, \"ity'\": {'s': 1.0}, \"ty's\": {' ': 1.0}, \"y's \": {'a': 1.0}, \"'s a\": {'c': 1.0}, 's ac': {'t': 1.0}, ' act': {'i': 1.0}, 'acti': {'v': 1.0}, 'ctiv': {'e': 1.0}, 'tive': {' ': 1.0}, 've c': {'a': 1.0}, 'es h': {'a': 1.0}, 's ha': {'v': 1.0}, ' hav': {'e': 1.0}, 'have': {' ': 1.0}, 'ave ': {'r': 1.0}, 've r': {'i': 1.0}, 'e ri': {'s': 1.0}, ' ris': {'e': 1.0}, 'rise': {'n': 1.0}, 'isen': {' ': 1.0}, 'sen ': {'t': 1.0}, 'en t': {'o': 1.0}, 'n to': {' ': 1.0}, 'to h': {'i': 1.0}, 'o hi': {'g': 1.0}, ' hig': {'h': 1.0}, 'high': {'e': 1.0}, 'ighe': {'s': 1.0}, 'ghes': {'t': 1.0}, 'hest': {'-': 1.0}, 'er 6': {'1': 1.0}, 'r 61': {',': 1.0}, ' 61,': {'0': 1.0}, '61,0': {'0': 1.0}, '1,00': {'0': 1.0}, ',000': {'.': 0.5, ' ': 0.5}, '000.': {' ': 1.0}, '00. ': {'t': 1.0}, '0. t': {'h': 1.0}, 'he r': {'e': 1.0}, 'ecov': {'e': 1.0}, 'cove': {'r': 1.0}, 'very': {' ': 1.0}, 'ery ': {'r': 1.0}, 'y ra': {'t': 1.0}, ' rat': {'e': 1.0}, 'rate': {' ': 1.0}, 'ate ': {'h': 0.5, 'w': 0.5}, 'te h': {'a': 1.0}, 'e ha': {'s': 1.0}, ' has': {' ': 1.0}, 'has ': {'d': 1.0}, 'as d': {'r': 1.0}, 's dr': {'o': 1.0}, ' dro': {'p': 1.0}, 'drop': {'p': 1.0}, 'ropp': {'e': 1.0}, 'oppe': {'d': 1.0}, 'pped': {' ': 1.0}, 'ped ': {'t': 1.0}, 'to 9': {'0': 1.0}, 'o 90': {'.': 1.0}, ' 90.': {'9': 1.0}, '90.9': {'4': 1.0}, '0.94': {' ': 1.0}, '.94 ': {'p': 1.0}, '94 p': {'e': 1.0}, '4 pe': {'r': 1.0}, ' per': {' ': 0.6666666666666666, 'i': 0.3333333333333333}, 'per ': {'c': 1.0}, 'er c': {'e': 1.0}, 'r ce': {'n': 1.0}, ' cen': {'t': 1.0}, 'cent': {'.': 1.0}, 'ent.': {'\\n': 0.5, ' ': 0.5}, 'nt.\\n': {'\\n': 1.0}, 't.\\n\\n': {'d': 1.0}, '.\\n\\nd': {'e': 1.0}, '\\n\\nde': {'l': 1.0}, '\\ndel': {'h': 1.0}, \"lhi'\": {'s': 1.0}, \"hi's\": {' ': 1.0}, \"i's \": {'p': 1.0}, \"'s p\": {'o': 1.0}, 's po': {'s': 1.0}, ' pos': {'i': 1.0}, 'posi': {'t': 1.0}, 'osit': {'i': 1.0}, 'siti': {'v': 1.0}, 'itiv': {'i': 1.0}, 'tivi': {'t': 1.0}, 'ivit': {'y': 1.0}, 'vity': {' ': 1.0}, 'ity ': {'r': 0.5, 'd': 0.5}, 'ty r': {'a': 1.0}, 'te w': {'a': 1.0}, 'e wa': {'s': 1.0}, ' was': {' ': 1.0}, 'was ': {'1': 1.0}, 'as 1': {'9': 1.0}, 's 19': {'.': 1.0}, ' 19.': {'6': 1.0}, '19.6': {'9': 1.0}, '9.69': {' ': 1.0}, '.69 ': {'p': 1.0}, '69 p': {'e': 1.0}, '9 pe': {'r': 1.0}, 't. 1': {'2': 1.0}, '. 12': {',': 1.0}, ' 12,': {'6': 1.0}, '12,6': {'4': 1.0}, '2,64': {'9': 1.0}, ',649': {' ': 1.0}, '649 ': {'c': 1.0}, '49 c': {'o': 1.0}, '9 co': {'v': 1.0}, 'id p': {'a': 1.0}, 'd pa': {'t': 1.0}, ' pat': {'i': 1.0}, 'pati': {'e': 1.0}, 'atie': {'n': 1.0}, 'tien': {'t': 1.0}, 'ient': {'s': 1.0}, 'ents': {' ': 1.0}, 'nts ': {'w': 1.0}, 'ts w': {'e': 1.0}, 're d': {'i': 1.0}, 'e di': {'s': 1.0}, ' dis': {'c': 1.0}, 'disc': {'h': 1.0}, 'isch': {'a': 1.0}, 'scha': {'r': 1.0}, 'char': {'g': 1.0}, 'harg': {'e': 1.0}, 'arge': {'d': 1.0}, 'urs.': {' ': 1.0}, 'rs. ': {'n': 0.5, '4': 0.5}, 's. n': {'e': 1.0}, '. ne': {'a': 1.0}, ' nea': {'r': 1.0}, 'near': {'l': 1.0}, 'earl': {'y': 1.0}, 'arly': {' ': 1.0}, 'rly ': {'9': 1.0}, 'ly 9': {'9': 1.0}, 'y 99': {',': 1.0}, ' 99,': {'0': 1.0}, '99,0': {'0': 1.0}, '9,00': {'0': 1.0}, '000 ': {'c': 1.0}, '00 c': {'o': 1.0}, '0 co': {'r': 1.0}, 'us t': {'e': 1.0}, 's te': {'s': 1.0}, ' tes': {'t': 1.0}, 'test': {'s': 1.0}, 'ests': {' ': 1.0}, 'sts ': {'w': 1.0}, ' con': {'d': 1.0}, 'cond': {'u': 1.0}, 'ondu': {'c': 1.0}, 'nduc': {'t': 1.0}, 'duct': {'e': 1.0}, 'ucte': {'d': 1.0}, 'cted': {' ': 1.0}, 'ty d': {'u': 1.0}, 'y du': {'r': 1.0}, ' dur': {'i': 1.0}, 'duri': {'n': 1.0}, 'urin': {'g': 1.0}, 'ring': {' ': 1.0}, 'e pe': {'r': 1.0}, 'peri': {'o': 1.0}, 'erio': {'d': 1.0}, 'riod': {'.': 1.0}, 'iod.': {'\\n': 1.0}, 'od.\\n': {'\\n': 1.0}, 'd.\\n\\n': {'m': 1.0}, '\\n\\nma': {'h': 1.0}, '\\nmah': {'a': 1.0}, 'tra,': {' ': 1.0}, 'ra, ': {'t': 1.0}, 'a, t': {'h': 1.0}, ', th': {'e': 1.0}, 'he w': {'o': 1.0}, 'e wo': {'r': 1.0}, ' wor': {'s': 1.0}, 'wors': {'t': 1.0}, 'orst': {'-': 1.0}, 'rst-': {'h': 1.0}, 'st-h': {'i': 1.0}, 't-hi': {'t': 1.0}, '-hit': {' ': 1.0}, 'hit ': {'s': 1.0}, 'it s': {'t': 1.0}, 't st': {'a': 1.0}, ' sta': {'t': 1.0}, 'stat': {'e': 1.0}, 'tate': {',': 1.0}, 'ate,': {' ': 1.0}, 'te, ': {'l': 1.0}, 'e, l': {'o': 1.0}, ', lo': {'g': 1.0}, 'ed 3': {'9': 1.0}, 'd 39': {'8': 1.0}, ' 398': {' ': 1.0}, '398 ': {'d': 1.0}, '98 d': {'e': 1.0}, '8 de': {'a': 1.0}, 'hs i': {'n': 1.0}, 's. 4': {'5': 1.0}, '. 45': {',': 1.0}, ' 45,': {'3': 1.0}, '45,3': {'3': 1.0}, '5,33': {'5': 1.0}, ',335': {' ': 1.0}, '335 ': {'p': 1.0}, '35 p': {'a': 1.0}, '5 pa': {'t': 1.0}}\n"
          ],
          "name": "stdout"
        }
      ]
    },
    {
      "cell_type": "code",
      "metadata": {
        "id": "Xjr_Mv9Wigbd"
      },
      "source": [
        "## Step-3 Predict the next letter\n",
        "def next_letter(ctx,T,k):\n",
        "    ctx = ctx[-k:]\n",
        "\n",
        "    if T.get(ctx) is None:\n",
        "        return \" \"\n",
        "    \n",
        "    possible_letters = list(T[ctx].keys())\n",
        "    probs = list(T[ctx].values())\n",
        "\n",
        "    return np.random.choice(possible_letters,p=probs)"
      ],
      "execution_count": null,
      "outputs": []
    },
    {
      "cell_type": "code",
      "metadata": {
        "colab": {
          "base_uri": "https://localhost:8080/"
        },
        "id": "IamjEmcHo9md",
        "outputId": "56ab8370-f54a-464f-d62c-cd7d303b6e80"
      },
      "source": [
        "next_letter(\"who \",T,4)"
      ],
      "execution_count": null,
      "outputs": [
        {
          "output_type": "stream",
          "text": [
            "['l'] [1.0]\n"
          ],
          "name": "stdout"
        }
      ]
    },
    {
      "cell_type": "code",
      "metadata": {
        "id": "7jcJ7w1rpBU8"
      },
      "source": [
        ""
      ],
      "execution_count": null,
      "outputs": []
    },
    {
      "cell_type": "code",
      "metadata": {
        "colab": {
          "base_uri": "https://localhost:8080/"
        },
        "id": "QVbITNk5p-Jt",
        "outputId": "0bbd531a-af17-4764-fd2f-c0aea62b8670"
      },
      "source": [
        "### Step - 4 Generate a Complete Song\n",
        "\n",
        "output = \"covi\"\n",
        "for i in range(2000):\n",
        "    pred = next_letter(output,T,4)\n",
        "    output += pred\n",
        "\n",
        "print(output)"
      ],
      "execution_count": null,
      "outputs": [
        {
          "output_type": "stream",
          "text": [
            "covid deaths, which is its biggest ever daily spike - as the novel coronavirus caseload surged 63,729 infections.\n",
            "\n",
            "the last 24 hours as the city's active a boost the reported in the sharpest-ever daily spike - as the reported 141 deaths in the country saw deaths were discharged 63,729 infectional capital also reported 141 deaths, which is its biggest data.\n",
            "\n",
            "while, maharashtra and delhi on friday recover daily spike - as the novel coronavirus cases for their biggest one-day of pandemic this year.\n",
            "prime minister narendra modi this morning the recovernment data.\n",
            "\n",
            "while, maharashtra, the national capital also reported in the third stressingle-day of pandemic.\n",
            "\n",
            "meanwhile, maharashtra logged 63,729 infectional capital also reported in the country saw deadliest one-day of pandemic this year.\n",
            "prime minister narendra modi this morning to 90.94 period.\n",
            "\n",
            "maharashtra, the sharpest-ever 61,000 coronavirus pandemic this year.\n",
            "prime minister narendra modi this morning the city rate has dropped that it will give caseload surged in the sharpest-ever single-day covid delhi on friday covid cases, according to government day reported 19,486 covid death country rate was 19.69 per cent. the conducted 19,486 covid patients were reported in coronavirus pandemic this year.\n",
            "prime minister narendra modi this year.\n",
            "prime minister narendra modi this year.\n",
            "prime minister narendra modi this morning to fight day. 1,341 deaths were caseload surged to 1.45 crore cases, accorded overy recover single-day recorded over daily spike - as the country saw deaths were discharged 63,729 infections.\n",
            "\n",
            "the last 24 hours, maharashtra and deaths were discharged in the last 24 hours. nearly 99,000. the last 24 hours as the last 24 hours. nearly 99,000. the worst-hit state, logged in the worst-hit state, logged 63,729 infectional capital also reported to highest-ever single-day surge in the pandemic this year.\n",
            "prime minister narendra modi this morning the third straight against the last 24 hours as the period.\n",
            "\n",
            "maharas\n"
          ],
          "name": "stdout"
        }
      ]
    },
    {
      "cell_type": "code",
      "metadata": {
        "id": "5JsJ77Xwq603"
      },
      "source": [
        "text = \"\"\"India's Covid caseload surged to 1.45 crore cases with 2,34,692 fresh infections - the sharpest-ever daily spike - as the country recorded over 2 lakh cases for the third straight day. 1,341 deaths were reported in the last 24 hours as the country saw deadliest day of pandemic this year.\n",
        "Prime Minister Narendra Modi this morning appealed that annual Kumbh Mela \"should now only be symbolic\" amid the novel coronavirus pandemic, stressing that it will give a boost to fight against the pandemic.\n",
        "\n",
        "Meanwhile, Maharashtra and Delhi on Friday reported their biggest ever single-day surge in coronavirus cases, according to government data.\n",
        "\n",
        "While Delhi reported 19,486 Covid cases in the last 24 hours, Maharashtra logged 63,729 infections.\n",
        "\n",
        "The national capital also reported 141 deaths, which is its biggest one-day Covid death count. The city's active cases have risen to highest-ever 61,000. The recovery rate has dropped to 90.94 per cent.\n",
        "\n",
        "Delhi's positivity rate was 19.69 per cent. 12,649 Covid patients were discharged in the last 24 hours. Nearly 99,000 coronavirus tests were conducted in the city during the period.\n",
        "\n",
        "Maharashtra, the worst-hit state, logged 398 deaths in the last 24 hours. 45,335 patients were discharged\"\"\".lower()"
      ],
      "execution_count": null,
      "outputs": []
    },
    {
      "cell_type": "code",
      "metadata": {
        "id": "OOXmUmvkryAe"
      },
      "source": [
        ""
      ],
      "execution_count": null,
      "outputs": []
    }
  ]
}